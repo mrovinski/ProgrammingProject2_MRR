{
 "cells": [
  {
   "cell_type": "markdown",
   "metadata": {},
   "source": [
    "# Programming Project 2\n",
    "\n",
    "#### US Presidents - Pre 20th Century\n",
    "\n",
    "**Author:** Molly Rovinski\n",
    "**Version:** 1.0\n",
    "**Semester:** Fall 2020"
   ]
  },
  {
   "cell_type": "markdown",
   "metadata": {},
   "source": [
    "**Goal:** To write a Python program that contains various functions to manipulate a small data set using features of lists, tuples, dictionaries, and sets."
   ]
  },
  {
   "cell_type": "code",
   "execution_count": 52,
   "metadata": {},
   "outputs": [],
   "source": [
    "Presidents = [['George','Washington',1789,1797,'VA','2/22/1732','12/14/1799',57,67],\n",
    "['John','Adams1',1797,1801,'MA','10/30/1735','7/4/1826',61,90],\n",
    "['Thomas','Jefferson',1801,1809,'VA','4/13/1743','7/4/1826',57,83],\n",
    "['James','Madison',1809,1817,'VA','3/16/1751','6/28/1836',57,85],\n",
    "['James','Monroe',1817,1825,'VA','4/28/1758','7/4/1831',58,73],\n",
    "['John','Adams2',1825,1829,'MA','7/11/1767','2/23/1848',57,80],\n",
    "['Andrew','Jackson',1829,1837,'SC','3/15/1767','6/8/1845',61,78],\n",
    "['Martin','Van Buren',1837,1841,'NY','12/5/1782','7/24/1862',54,79],\n",
    "['William','Harrison1',1841,1841,'VA','2/9/1773','4/4/1841',68,68],\n",
    "['John','Tyler',1841,1845,'VA','3/29/1790','1/18/1862',51,71],\n",
    "['James','Polk',1845,1849,'NC','11/2/1795','6/15/1849',49,53],\n",
    "['Zachary','Taylor',1849,1850,'VA','11/24/1784','7/9/1850',64,65],\n",
    "['Millard','Fillmore',1850,1853,'NY','1/7/1800','3/8/1874',50,74],\n",
    "['Franklin','Pierce',1853,1857,'NH','11/23/1804','10/8/1869',48,64],\n",
    "['James','Buchanan',1857,1861,'PA','4/23/1791','6/1/1868',65,77],\n",
    "['Abraham','Lincoln',1861,1865,'KY','2/12/1809','4/15/1865',52,56],\n",
    "['Andrew','Johnson',1865,1869,'NC','12/29/1808','7/31/1875',56,66],\n",
    "['Ulysses','Grant',1869,1877,'OH','4/27/1822','7/23/1885',46,63],\n",
    "['Rutherford','Hayes',1877,1881,'OH','10/4/1822','1/17/1893',54,70],\n",
    "['James','Garfield',1881,1881,'OH','11/19/1831','9/19/1881',49,49],\n",
    "['Chester','Arthur',1881,1885,'VT','10/5/1829','11/18/1886',50,56],\n",
    "['Grover','Cleveland1',1885,1889,'NJ','3/18/1837','6/24/1908',47,71],\n",
    "['Benjamin','Harrison2',1889,1893,'OH','8/20/1833','3/13/1901',55,67],\n",
    "['Grover','Cleveland2',1893,1897,'NJ','3/18/1837','6/24/1908',55,71]]"
   ]
  },
  {
   "cell_type": "code",
   "execution_count": 53,
   "metadata": {},
   "outputs": [
    {
     "name": "stdout",
     "output_type": "stream",
     "text": [
      "[['George', 'Washington', 1789, 1797, 'VA', '2/22/1732', '12/14/1799', 57, 67], ['John', 'Adams1', 1797, 1801, 'MA', '10/30/1735', '7/4/1826', 61, 90], ['Thomas', 'Jefferson', 1801, 1809, 'VA', '4/13/1743', '7/4/1826', 57, 83], ['James', 'Madison', 1809, 1817, 'VA', '3/16/1751', '6/28/1836', 57, 85], ['James', 'Monroe', 1817, 1825, 'VA', '4/28/1758', '7/4/1831', 58, 73], ['John', 'Adams2', 1825, 1829, 'MA', '7/11/1767', '2/23/1848', 57, 80], ['Andrew', 'Jackson', 1829, 1837, 'SC', '3/15/1767', '6/8/1845', 61, 78], ['Martin', 'Van Buren', 1837, 1841, 'NY', '12/5/1782', '7/24/1862', 54, 79], ['William', 'Harrison1', 1841, 1841, 'VA', '2/9/1773', '4/4/1841', 68, 68], ['John', 'Tyler', 1841, 1845, 'VA', '3/29/1790', '1/18/1862', 51, 71], ['James', 'Polk', 1845, 1849, 'NC', '11/2/1795', '6/15/1849', 49, 53], ['Zachary', 'Taylor', 1849, 1850, 'VA', '11/24/1784', '7/9/1850', 64, 65], ['Millard', 'Fillmore', 1850, 1853, 'NY', '1/7/1800', '3/8/1874', 50, 74], ['Franklin', 'Pierce', 1853, 1857, 'NH', '11/23/1804', '10/8/1869', 48, 64], ['James', 'Buchanan', 1857, 1861, 'PA', '4/23/1791', '6/1/1868', 65, 77], ['Abraham', 'Lincoln', 1861, 1865, 'KY', '2/12/1809', '4/15/1865', 52, 56], ['Andrew', 'Johnson', 1865, 1869, 'NC', '12/29/1808', '7/31/1875', 56, 66], ['Ulysses', 'Grant', 1869, 1877, 'OH', '4/27/1822', '7/23/1885', 46, 63], ['Rutherford', 'Hayes', 1877, 1881, 'OH', '10/4/1822', '1/17/1893', 54, 70], ['James', 'Garfield', 1881, 1881, 'OH', '11/19/1831', '9/19/1881', 49, 49], ['Chester', 'Arthur', 1881, 1885, 'VT', '10/5/1829', '11/18/1886', 50, 56], ['Grover', 'Cleveland1', 1885, 1889, 'NJ', '3/18/1837', '6/24/1908', 47, 71], ['Benjamin', 'Harrison2', 1889, 1893, 'OH', '8/20/1833', '3/13/1901', 55, 67], ['Grover', 'Cleveland2', 1893, 1897, 'NJ', '3/18/1837', '6/24/1908', 55, 71]]\n"
     ]
    }
   ],
   "source": [
    "print(Presidents)"
   ]
  },
  {
   "cell_type": "code",
   "execution_count": 54,
   "metadata": {},
   "outputs": [],
   "source": [
    "def extract_column(data,column): \n",
    "    \"\"\"This function extracts certain columns from the data lists to create new lists of those elements.\"\"\"\n",
    "    ans = []\n",
    "    for i in data:\n",
    "        ans.append(i[column])\n",
    "    return ans"
   ]
  },
  {
   "cell_type": "code",
   "execution_count": 55,
   "metadata": {},
   "outputs": [],
   "source": [
    "first_name = extract_column(Presidents, 0)"
   ]
  },
  {
   "cell_type": "code",
   "execution_count": 56,
   "metadata": {},
   "outputs": [
    {
     "name": "stdout",
     "output_type": "stream",
     "text": [
      "['George', 'John', 'Thomas', 'James', 'James', 'John', 'Andrew', 'Martin', 'William', 'John', 'James', 'Zachary', 'Millard', 'Franklin', 'James', 'Abraham', 'Andrew', 'Ulysses', 'Rutherford', 'James', 'Chester', 'Grover', 'Benjamin', 'Grover']\n"
     ]
    }
   ],
   "source": [
    "print (first_name)"
   ]
  },
  {
   "cell_type": "code",
   "execution_count": 57,
   "metadata": {},
   "outputs": [],
   "source": [
    "last_name = extract_column(Presidents,1)"
   ]
  },
  {
   "cell_type": "code",
   "execution_count": 58,
   "metadata": {},
   "outputs": [
    {
     "name": "stdout",
     "output_type": "stream",
     "text": [
      "['Washington', 'Adams1', 'Jefferson', 'Madison', 'Monroe', 'Adams2', 'Jackson', 'Van Buren', 'Harrison1', 'Tyler', 'Polk', 'Taylor', 'Fillmore', 'Pierce', 'Buchanan', 'Lincoln', 'Johnson', 'Grant', 'Hayes', 'Garfield', 'Arthur', 'Cleveland1', 'Harrison2', 'Cleveland2']\n"
     ]
    }
   ],
   "source": [
    "print (last_name)"
   ]
  },
  {
   "cell_type": "code",
   "execution_count": 59,
   "metadata": {},
   "outputs": [],
   "source": [
    "start_term = extract_column(Presidents, 2)"
   ]
  },
  {
   "cell_type": "code",
   "execution_count": 60,
   "metadata": {},
   "outputs": [
    {
     "name": "stdout",
     "output_type": "stream",
     "text": [
      "[1789, 1797, 1801, 1809, 1817, 1825, 1829, 1837, 1841, 1841, 1845, 1849, 1850, 1853, 1857, 1861, 1865, 1869, 1877, 1881, 1881, 1885, 1889, 1893]\n"
     ]
    }
   ],
   "source": [
    "print (start_term)"
   ]
  },
  {
   "cell_type": "code",
   "execution_count": 61,
   "metadata": {},
   "outputs": [],
   "source": [
    "end_term = extract_column (Presidents,3)"
   ]
  },
  {
   "cell_type": "code",
   "execution_count": 62,
   "metadata": {},
   "outputs": [
    {
     "name": "stdout",
     "output_type": "stream",
     "text": [
      "[1797, 1801, 1809, 1817, 1825, 1829, 1837, 1841, 1841, 1845, 1849, 1850, 1853, 1857, 1861, 1865, 1869, 1877, 1881, 1881, 1885, 1889, 1893, 1897]\n"
     ]
    }
   ],
   "source": [
    "print (end_term)"
   ]
  },
  {
   "cell_type": "code",
   "execution_count": 63,
   "metadata": {},
   "outputs": [],
   "source": [
    "birth_state = extract_column(Presidents, 4)"
   ]
  },
  {
   "cell_type": "code",
   "execution_count": 64,
   "metadata": {},
   "outputs": [
    {
     "name": "stdout",
     "output_type": "stream",
     "text": [
      "['VA', 'MA', 'VA', 'VA', 'VA', 'MA', 'SC', 'NY', 'VA', 'VA', 'NC', 'VA', 'NY', 'NH', 'PA', 'KY', 'NC', 'OH', 'OH', 'OH', 'VT', 'NJ', 'OH', 'NJ']\n"
     ]
    }
   ],
   "source": [
    "print (birth_state)"
   ]
  },
  {
   "cell_type": "code",
   "execution_count": 65,
   "metadata": {},
   "outputs": [],
   "source": [
    "birth_date = extract_column (Presidents, 5)"
   ]
  },
  {
   "cell_type": "code",
   "execution_count": 66,
   "metadata": {},
   "outputs": [
    {
     "name": "stdout",
     "output_type": "stream",
     "text": [
      "['2/22/1732', '10/30/1735', '4/13/1743', '3/16/1751', '4/28/1758', '7/11/1767', '3/15/1767', '12/5/1782', '2/9/1773', '3/29/1790', '11/2/1795', '11/24/1784', '1/7/1800', '11/23/1804', '4/23/1791', '2/12/1809', '12/29/1808', '4/27/1822', '10/4/1822', '11/19/1831', '10/5/1829', '3/18/1837', '8/20/1833', '3/18/1837']\n"
     ]
    }
   ],
   "source": [
    "print (birth_date)"
   ]
  },
  {
   "cell_type": "code",
   "execution_count": 67,
   "metadata": {},
   "outputs": [],
   "source": [
    "death_date = extract_column (Presidents, 6)"
   ]
  },
  {
   "cell_type": "code",
   "execution_count": 68,
   "metadata": {},
   "outputs": [
    {
     "name": "stdout",
     "output_type": "stream",
     "text": [
      "['12/14/1799', '7/4/1826', '7/4/1826', '6/28/1836', '7/4/1831', '2/23/1848', '6/8/1845', '7/24/1862', '4/4/1841', '1/18/1862', '6/15/1849', '7/9/1850', '3/8/1874', '10/8/1869', '6/1/1868', '4/15/1865', '7/31/1875', '7/23/1885', '1/17/1893', '9/19/1881', '11/18/1886', '6/24/1908', '3/13/1901', '6/24/1908']\n"
     ]
    }
   ],
   "source": [
    "print(death_date)"
   ]
  },
  {
   "cell_type": "code",
   "execution_count": 69,
   "metadata": {},
   "outputs": [],
   "source": [
    "inaug_age = extract_column (Presidents, 7)"
   ]
  },
  {
   "cell_type": "code",
   "execution_count": 70,
   "metadata": {},
   "outputs": [
    {
     "name": "stdout",
     "output_type": "stream",
     "text": [
      "[57, 61, 57, 57, 58, 57, 61, 54, 68, 51, 49, 64, 50, 48, 65, 52, 56, 46, 54, 49, 50, 47, 55, 55]\n"
     ]
    }
   ],
   "source": [
    "print (inaug_age)"
   ]
  },
  {
   "cell_type": "code",
   "execution_count": 71,
   "metadata": {},
   "outputs": [],
   "source": [
    "death_age = extract_column (Presidents, 8)"
   ]
  },
  {
   "cell_type": "code",
   "execution_count": 72,
   "metadata": {},
   "outputs": [
    {
     "name": "stdout",
     "output_type": "stream",
     "text": [
      "[67, 90, 83, 85, 73, 80, 78, 79, 68, 71, 53, 65, 74, 64, 77, 56, 66, 63, 70, 49, 56, 71, 67, 71]\n"
     ]
    }
   ],
   "source": [
    "print (death_age)"
   ]
  },
  {
   "cell_type": "code",
   "execution_count": 73,
   "metadata": {},
   "outputs": [],
   "source": [
    "names = list(zip(last_name, first_name))"
   ]
  },
  {
   "cell_type": "code",
   "execution_count": 74,
   "metadata": {},
   "outputs": [
    {
     "name": "stdout",
     "output_type": "stream",
     "text": [
      "[('Washington', 'George'), ('Adams1', 'John'), ('Jefferson', 'Thomas'), ('Madison', 'James'), ('Monroe', 'James'), ('Adams2', 'John'), ('Jackson', 'Andrew'), ('Van Buren', 'Martin'), ('Harrison1', 'William'), ('Tyler', 'John'), ('Polk', 'James'), ('Taylor', 'Zachary'), ('Fillmore', 'Millard'), ('Pierce', 'Franklin'), ('Buchanan', 'James'), ('Lincoln', 'Abraham'), ('Johnson', 'Andrew'), ('Grant', 'Ulysses'), ('Hayes', 'Rutherford'), ('Garfield', 'James'), ('Arthur', 'Chester'), ('Cleveland1', 'Grover'), ('Harrison2', 'Benjamin'), ('Cleveland2', 'Grover')]\n"
     ]
    }
   ],
   "source": [
    "print (names)"
   ]
  },
  {
   "cell_type": "code",
   "execution_count": 75,
   "metadata": {},
   "outputs": [],
   "source": [
    "sorted_names = sorted(names)"
   ]
  },
  {
   "cell_type": "code",
   "execution_count": 76,
   "metadata": {},
   "outputs": [
    {
     "data": {
      "text/plain": [
       "[('Adams1', 'John'),\n",
       " ('Adams2', 'John'),\n",
       " ('Arthur', 'Chester'),\n",
       " ('Buchanan', 'James'),\n",
       " ('Cleveland1', 'Grover'),\n",
       " ('Cleveland2', 'Grover'),\n",
       " ('Fillmore', 'Millard'),\n",
       " ('Garfield', 'James'),\n",
       " ('Grant', 'Ulysses'),\n",
       " ('Harrison1', 'William'),\n",
       " ('Harrison2', 'Benjamin'),\n",
       " ('Hayes', 'Rutherford'),\n",
       " ('Jackson', 'Andrew'),\n",
       " ('Jefferson', 'Thomas'),\n",
       " ('Johnson', 'Andrew'),\n",
       " ('Lincoln', 'Abraham'),\n",
       " ('Madison', 'James'),\n",
       " ('Monroe', 'James'),\n",
       " ('Pierce', 'Franklin'),\n",
       " ('Polk', 'James'),\n",
       " ('Taylor', 'Zachary'),\n",
       " ('Tyler', 'John'),\n",
       " ('Van Buren', 'Martin'),\n",
       " ('Washington', 'George')]"
      ]
     },
     "execution_count": 76,
     "metadata": {},
     "output_type": "execute_result"
    }
   ],
   "source": [
    "sorted_names"
   ]
  },
  {
   "cell_type": "code",
   "execution_count": 77,
   "metadata": {},
   "outputs": [],
   "source": [
    "import statistics as stats\n",
    "mean_inaug_age = stats.mean(inaug_age)\n",
    "mean_death_age = stats.mean(death_age)"
   ]
  },
  {
   "cell_type": "code",
   "execution_count": 78,
   "metadata": {},
   "outputs": [],
   "source": [
    "def get_post_term(data):\n",
    "    \"\"\"This function calculates how many years the President lived after they finished serving as President.\"\"\"\n",
    "    deathdate = int(data[6][len(data[6])-4:])\n",
    "    return deathdate - data[3]"
   ]
  },
  {
   "cell_type": "code",
   "execution_count": 79,
   "metadata": {},
   "outputs": [
    {
     "data": {
      "text/plain": [
       "2"
      ]
     },
     "execution_count": 79,
     "metadata": {},
     "output_type": "execute_result"
    }
   ],
   "source": [
    "get_post_term(Presidents[0])"
   ]
  },
  {
   "cell_type": "code",
   "execution_count": 80,
   "metadata": {},
   "outputs": [
    {
     "data": {
      "text/plain": [
       "25"
      ]
     },
     "execution_count": 80,
     "metadata": {},
     "output_type": "execute_result"
    }
   ],
   "source": [
    "get_post_term(Presidents[1])"
   ]
  },
  {
   "cell_type": "code",
   "execution_count": 81,
   "metadata": {},
   "outputs": [
    {
     "data": {
      "text/plain": [
       "17"
      ]
     },
     "execution_count": 81,
     "metadata": {},
     "output_type": "execute_result"
    }
   ],
   "source": [
    "get_post_term(Presidents[2])"
   ]
  },
  {
   "cell_type": "code",
   "execution_count": 82,
   "metadata": {},
   "outputs": [
    {
     "data": {
      "text/plain": [
       "19"
      ]
     },
     "execution_count": 82,
     "metadata": {},
     "output_type": "execute_result"
    }
   ],
   "source": [
    "get_post_term(Presidents[3])"
   ]
  },
  {
   "cell_type": "code",
   "execution_count": 83,
   "metadata": {},
   "outputs": [
    {
     "data": {
      "text/plain": [
       "6"
      ]
     },
     "execution_count": 83,
     "metadata": {},
     "output_type": "execute_result"
    }
   ],
   "source": [
    "get_post_term(Presidents[4])"
   ]
  },
  {
   "cell_type": "code",
   "execution_count": 84,
   "metadata": {},
   "outputs": [],
   "source": [
    "post_presidency = list(map(get_post_term, Presidents))"
   ]
  },
  {
   "cell_type": "code",
   "execution_count": 85,
   "metadata": {},
   "outputs": [
    {
     "data": {
      "text/plain": [
       "[2,\n",
       " 25,\n",
       " 17,\n",
       " 19,\n",
       " 6,\n",
       " 19,\n",
       " 8,\n",
       " 21,\n",
       " 0,\n",
       " 17,\n",
       " 0,\n",
       " 0,\n",
       " 21,\n",
       " 12,\n",
       " 7,\n",
       " 0,\n",
       " 6,\n",
       " 8,\n",
       " 12,\n",
       " 0,\n",
       " 1,\n",
       " 19,\n",
       " 8,\n",
       " 11]"
      ]
     },
     "execution_count": 85,
     "metadata": {},
     "output_type": "execute_result"
    }
   ],
   "source": [
    "post_presidency"
   ]
  },
  {
   "cell_type": "code",
   "execution_count": 86,
   "metadata": {},
   "outputs": [],
   "source": [
    "mean_post_presidency = stats.mean(post_presidency)"
   ]
  },
  {
   "cell_type": "code",
   "execution_count": 87,
   "metadata": {},
   "outputs": [],
   "source": [
    "from prettytable import PrettyTable\n",
    "def calculate_summary(data):\n",
    "    \"\"\"This function creates a pretty table for mean ages of the Presidents.\"\"\"\n",
    "    pt = PrettyTable()\n",
    "    pt.field_names = ['Mean Age at Inauguration','Mean Age at Death','Mean Number of Years after Presidency']\n",
    "    pt.add_row ([f'{mean_inaug_age:.2F} years', f'{mean_death_age:.2F} years', f'{mean_post_presidency:.2F} years'])\n",
    "    print (pt)"
   ]
  },
  {
   "cell_type": "code",
   "execution_count": 88,
   "metadata": {},
   "outputs": [
    {
     "name": "stdout",
     "output_type": "stream",
     "text": [
      "+--------------------------+-------------------+---------------------------------------+\n",
      "| Mean Age at Inauguration | Mean Age at Death | Mean Number of Years after Presidency |\n",
      "+--------------------------+-------------------+---------------------------------------+\n",
      "|       55.04 years        |    69.83 years    |               9.96 years              |\n",
      "+--------------------------+-------------------+---------------------------------------+\n"
     ]
    }
   ],
   "source": [
    "calculate_summary(Presidents)"
   ]
  },
  {
   "cell_type": "code",
   "execution_count": 89,
   "metadata": {},
   "outputs": [],
   "source": [
    "def convert_to_dict(data):\n",
    "    \"\"\"This function converts the President's name and death age to a dictionary.\"\"\"\n",
    "    x = []\n",
    "    for i in data:\n",
    "        x.append((i[1], i[8]))\n",
    "    return dict(x)"
   ]
  },
  {
   "cell_type": "code",
   "execution_count": 90,
   "metadata": {},
   "outputs": [],
   "source": [
    "prez_dict = convert_to_dict(Presidents)"
   ]
  },
  {
   "cell_type": "code",
   "execution_count": 91,
   "metadata": {},
   "outputs": [
    {
     "data": {
      "text/plain": [
       "{'Washington': 67,\n",
       " 'Adams1': 90,\n",
       " 'Jefferson': 83,\n",
       " 'Madison': 85,\n",
       " 'Monroe': 73,\n",
       " 'Adams2': 80,\n",
       " 'Jackson': 78,\n",
       " 'Van Buren': 79,\n",
       " 'Harrison1': 68,\n",
       " 'Tyler': 71,\n",
       " 'Polk': 53,\n",
       " 'Taylor': 65,\n",
       " 'Fillmore': 74,\n",
       " 'Pierce': 64,\n",
       " 'Buchanan': 77,\n",
       " 'Lincoln': 56,\n",
       " 'Johnson': 66,\n",
       " 'Grant': 63,\n",
       " 'Hayes': 70,\n",
       " 'Garfield': 49,\n",
       " 'Arthur': 56,\n",
       " 'Cleveland1': 71,\n",
       " 'Harrison2': 67,\n",
       " 'Cleveland2': 71}"
      ]
     },
     "execution_count": 91,
     "metadata": {},
     "output_type": "execute_result"
    }
   ],
   "source": [
    "prez_dict"
   ]
  },
  {
   "cell_type": "markdown",
   "metadata": {},
   "source": [
    "**Bonus A:** Write a function that accepts the dictionary from Step 12."
   ]
  },
  {
   "cell_type": "code",
   "execution_count": 92,
   "metadata": {},
   "outputs": [],
   "source": [
    "def prez_dates(data): \n",
    "    \"\"\"This function prints the President's death age.\"\"\"\n",
    "    for i in prez_dict.keys():\n",
    "        print(\"President\", i, \"died at\", prez_dict[i], \"years old.\")"
   ]
  },
  {
   "cell_type": "code",
   "execution_count": 51,
   "metadata": {},
   "outputs": [
    {
     "name": "stdout",
     "output_type": "stream",
     "text": [
      "President Washington died at 67 years old.\n",
      "President Adams1 died at 90 years old.\n",
      "President Jefferson died at 83 years old.\n",
      "President Madison died at 85 years old.\n",
      "President Monroe died at 73 years old.\n",
      "President Adams2 died at 80 years old.\n",
      "President Jackson died at 78 years old.\n",
      "President Van Buren died at 79 years old.\n",
      "President Harrison1 died at 68 years old.\n",
      "President Tyler died at 71 years old.\n",
      "President Polk died at 53 years old.\n",
      "President Taylor died at 65 years old.\n",
      "President Fillmore died at 74 years old.\n",
      "President Pierce died at 64 years old.\n",
      "President Buchanan died at 77 years old.\n",
      "President Lincoln died at 56 years old.\n",
      "President Johnson died at 66 years old.\n",
      "President Grant died at 63 years old.\n",
      "President Hayes died at 70 years old.\n",
      "President Garfield died at 49 years old.\n",
      "President Arthur died at 56 years old.\n",
      "President Cleveland1 died at 71 years old.\n",
      "President Harrison2 died at 67 years old.\n",
      "President Cleveland2 died at 71 years old.\n"
     ]
    }
   ],
   "source": [
    "prez_dates(prez_dict)"
   ]
  }
 ],
 "metadata": {
  "kernelspec": {
   "display_name": "Python 3",
   "language": "python",
   "name": "python3"
  },
  "language_info": {
   "codemirror_mode": {
    "name": "ipython",
    "version": 3
   },
   "file_extension": ".py",
   "mimetype": "text/x-python",
   "name": "python",
   "nbconvert_exporter": "python",
   "pygments_lexer": "ipython3",
   "version": "3.8.3"
  }
 },
 "nbformat": 4,
 "nbformat_minor": 4
}
